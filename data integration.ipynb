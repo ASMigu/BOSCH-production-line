{
 "cells": [
  {
   "cell_type": "code",
   "execution_count": 45,
   "metadata": {},
   "outputs": [],
   "source": [
    "import pandas as pd \n",
    "import gc"
   ]
  },
  {
   "cell_type": "code",
   "execution_count": 7,
   "metadata": {},
   "outputs": [
    {
     "name": "stdout",
     "output_type": "stream",
     "text": [
      "(1183747, 16)\n",
      "(1183748, 16)\n"
     ]
    }
   ],
   "source": [
    "cate_path = 'categorical model/'\n",
    "cate_tr = pd.read_csv(cate_path + 'cate_train_features.csv', index_col = 0)\n",
    "cate_te = pd.read_csv(cate_path + 'cate_test_features.csv', index_col = 0)\n",
    "print(cate_tr.shape)\n",
    "print(cate_te.shape)"
   ]
  },
  {
   "cell_type": "code",
   "execution_count": 29,
   "metadata": {},
   "outputs": [
    {
     "name": "stdout",
     "output_type": "stream",
     "text": [
      "(1183747, 21)\n",
      "(1183748, 21)\n"
     ]
    }
   ],
   "source": [
    "num_path = 'numeric model/'\n",
    "num_feats = pd.read_csv(num_path + 'numeric_xgb_feature_importance.csv', index_col = 0)\n",
    "num_feats = num_feats.iloc[-20::, 0].to_list()\n",
    "num_feats = ['Id'] + num_feats\n",
    "num_tr = pd.read_csv(num_path + 'train_numeric.csv', usecols = num_feats)\n",
    "num_te = pd.read_csv(num_path + 'test_numeric.csv', usecols = num_feats)\n",
    "print(num_tr.shape)\n",
    "print(num_te.shape)"
   ]
  },
  {
   "cell_type": "code",
   "execution_count": 26,
   "metadata": {},
   "outputs": [
    {
     "name": "stdout",
     "output_type": "stream",
     "text": [
      "(1183747, 21)\n",
      "(1183748, 21)\n"
     ]
    }
   ],
   "source": [
    "date_path = 'date model/'\n",
    "date_feats = pd.read_csv(date_path + 'selected features 20.csv', index_col = 0)\n",
    "date_feats = date_feats.iloc[-20::, 0].to_list()\n",
    "date_feats = [\"Id\"] + date_feats \n",
    "date_tr = pd.read_csv(date_path + 'train_date_features.csv', usecols = date_feats)\n",
    "date_te = pd.read_csv(date_path + 'test_date_features.csv', usecols = date_feats)\n",
    "print(date_tr.shape)\n",
    "print(date_te.shape)"
   ]
  },
  {
   "cell_type": "code",
   "execution_count": null,
   "metadata": {},
   "outputs": [],
   "source": [
    "temp_tr = pd.merge(cate_tr, num_tr, how = 'left', on = 'Id')\n",
    "tr = pd.merge(temp_tr, date_tr, how = 'left', on = 'Id')\n",
    "le = pd.read_csv('data/train_numeric.csv', usecols = ['Id', 'Response'])\n",
    "tr = pd.merge(tr, le, how = 'left', on = 'Id')\n",
    "\n",
    "temp_te = pd.merge(cate_te, num_te, how = 'left', on = 'Id')\n",
    "te = pd.merge(temp_te, date_te, how = 'left', on = 'Id')\n",
    "\n",
    "del temp_tr, temp_te\n",
    "gc.collect()\n",
    "\n",
    "print(tr.shape)\n",
    "print(te.shape)"
   ]
  },
  {
   "cell_type": "code",
   "execution_count": 40,
   "metadata": {},
   "outputs": [],
   "source": [
    "final_data_path = 'final data/'\n",
    "tr.to_csv(final_data_path + 'train_data_final.csv')\n",
    "te.to_csv(final_data_path + 'test_data_final.csv')"
   ]
  }
 ],
 "metadata": {
  "interpreter": {
   "hash": "7ab622567d5dd62d8f3cbe4f9041d16392fede1d1b7e8653be16112644bf1804"
  },
  "kernelspec": {
   "display_name": "Python 3.7.4 64-bit ('tutorial-venv': venv)",
   "language": "python",
   "name": "python3"
  },
  "language_info": {
   "codemirror_mode": {
    "name": "ipython",
    "version": 3
   },
   "file_extension": ".py",
   "mimetype": "text/x-python",
   "name": "python",
   "nbconvert_exporter": "python",
   "pygments_lexer": "ipython3",
   "version": "3.7.4"
  },
  "orig_nbformat": 4
 },
 "nbformat": 4,
 "nbformat_minor": 2
}

{
 "cells": [
  {
   "cell_type": "code",
   "execution_count": 32,
   "metadata": {},
   "outputs": [],
   "source": [
    "import numpy as np \n",
    "import pandas as pd \n",
    "import gc\n",
    "import utils as u\n",
    "from sklearn.preprocessing import LabelEncoder\n",
    "from sklearn.preprocessing import OneHotEncoder\n",
    "import xgboost as xgb\n",
    "from sklearn.metrics import log_loss, f1_score, roc_curve, confusion_matrix, matthews_corrcoef\n",
    "from sklearn.model_selection import StratifiedKFold\n",
    "from plotnine import (ggplot, aes, geom_bar, theme, element_text, labs, ggtitle, scale_y_continuous, coord_flip, ggsave)"
   ]
  },
  {
   "cell_type": "code",
   "execution_count": 2,
   "metadata": {},
   "outputs": [],
   "source": [
    "dir = 'data/'\n",
    "out = 'mid_output/'\n",
    "train_numeric = dir + 'train_numeric.csv'\n",
    "train_cate = dir + 'train_categorical.csv'\n",
    "test_cate = dir + 'test_categorical.csv'"
   ]
  },
  {
   "cell_type": "markdown",
   "metadata": {},
   "source": [
    "# "
   ]
  },
  {
   "cell_type": "markdown",
   "metadata": {},
   "source": [
    "## Feature importance"
   ]
  },
  {
   "cell_type": "code",
   "execution_count": 3,
   "metadata": {},
   "outputs": [],
   "source": [
    "# Due to a lot of features, selected 0-401 features, 401-801,..., 1601-2140 and repeated the following process\n",
    "col = pd.read_csv(train_cate, nrows = 1).columns.to_list()\n",
    "col = col[1:450] # 2140\n",
    "col.append('Id')"
   ]
  },
  {
   "cell_type": "code",
   "execution_count": null,
   "metadata": {},
   "outputs": [],
   "source": [
    "cate_train = u.load_data(train_cate, 2.5*10**5, 1.2*10**6, col)"
   ]
  },
  {
   "cell_type": "code",
   "execution_count": 5,
   "metadata": {},
   "outputs": [],
   "source": [
    "col = list(set(cate_train.columns) - set(['Id']))\n",
    "for i in col:\n",
    "    le = LabelEncoder()\n",
    "    le.fit(cate_train[i].fillna('NA'))\n",
    "\n",
    "    cate_train[i] = le.transform(cate_train[i].fillna('NA'))\n"
   ]
  },
  {
   "cell_type": "code",
   "execution_count": 6,
   "metadata": {},
   "outputs": [
    {
     "name": "stdout",
     "output_type": "stream",
     "text": [
      "(1183747, 450)\n",
      "(1183747, 451)\n"
     ]
    }
   ],
   "source": [
    "print(cate_train.shape)\n",
    "response = pd.read_csv(train_numeric, usecols = ['Response'])\n",
    "data = pd.concat([cate_train, response], axis = 1)\n",
    "print(data.shape)"
   ]
  },
  {
   "cell_type": "code",
   "execution_count": 7,
   "metadata": {},
   "outputs": [],
   "source": [
    "np.random.seed(10)\n",
    "data = data.sample(frac = 1)"
   ]
  },
  {
   "cell_type": "code",
   "execution_count": 8,
   "metadata": {},
   "outputs": [
    {
     "name": "stdout",
     "output_type": "stream",
     "text": [
      "(1183747, 449)\n",
      "(1183747,)\n"
     ]
    }
   ],
   "source": [
    "X = data.drop(['Id', 'Response'], axis = 1)\n",
    "y = data['Response']\n",
    "print(X.shape)\n",
    "print(y.shape)"
   ]
  },
  {
   "cell_type": "code",
   "execution_count": null,
   "metadata": {},
   "outputs": [],
   "source": [
    "kf = StratifiedKFold(n_splits = 5, shuffle = True, random_state = 123)\n",
    "scores = []\n",
    "for tr_idx, va_idx in kf.split(X, y):\n",
    "    tr_x, va_x = X.iloc[tr_idx], X.iloc[va_idx]\n",
    "    tr_y, va_y = y.iloc[tr_idx], y.iloc[va_idx]\n",
    "\n",
    "    dtrain = xgb.DMatrix(tr_x, label = tr_y)\n",
    "    dvalid = xgb.DMatrix(va_x, label = va_y)\n",
    "\n",
    "    num_round = 100\n",
    "    params = {'colsample_bytree':0.4, \n",
    "              'eta':0.1,\n",
    "              'max_depth': 5,\n",
    "              'subsample': 0.8,\n",
    "              'eval_metric': 'logloss',\n",
    "              'objective': 'binary:logistic',\n",
    "              'random_state': 71,\n",
    "              'silent': 0\n",
    "            }\n",
    "\n",
    "    watchlist = [(dtrain, 'train'), (dvalid, 'eval')]\n",
    "\n",
    "    model = xgb.train(params, dtrain, num_round, evals = watchlist, early_stopping_rounds = 10)\n",
    "    va_pred = model.predict(dvalid)\n",
    "    score = log_loss(va_y, va_pred)\n",
    "    print('logss value: {}'.format(score))\n",
    "    scores.append(score)\n",
    "    del va_pred, score\n",
    "    gc.collect()\n",
    "\n",
    "print('avg_logloss:', np.mean(scores))\n"
   ]
  },
  {
   "cell_type": "code",
   "execution_count": 14,
   "metadata": {},
   "outputs": [],
   "source": [
    "# model.save_model(\"cate_xgb_model.json\")"
   ]
  },
  {
   "cell_type": "code",
   "execution_count": 67,
   "metadata": {},
   "outputs": [
    {
     "data": {
      "text/html": [
       "<div>\n",
       "<style scoped>\n",
       "    .dataframe tbody tr th:only-of-type {\n",
       "        vertical-align: middle;\n",
       "    }\n",
       "\n",
       "    .dataframe tbody tr th {\n",
       "        vertical-align: top;\n",
       "    }\n",
       "\n",
       "    .dataframe thead th {\n",
       "        text-align: right;\n",
       "    }\n",
       "</style>\n",
       "<table border=\"1\" class=\"dataframe\">\n",
       "  <thead>\n",
       "    <tr style=\"text-align: right;\">\n",
       "      <th></th>\n",
       "      <th>feature</th>\n",
       "      <th>scores</th>\n",
       "      <th>score</th>\n",
       "    </tr>\n",
       "  </thead>\n",
       "  <tbody>\n",
       "    <tr>\n",
       "      <th>L0_S2_F39</th>\n",
       "      <td>L0_S2_F39</td>\n",
       "      <td>0.862793</td>\n",
       "      <td>0.004708</td>\n",
       "    </tr>\n",
       "    <tr>\n",
       "      <th>L0_S9_F179</th>\n",
       "      <td>L0_S9_F179</td>\n",
       "      <td>1.152344</td>\n",
       "      <td>0.006288</td>\n",
       "    </tr>\n",
       "    <tr>\n",
       "      <th>L0_S9_F159</th>\n",
       "      <td>L0_S9_F159</td>\n",
       "      <td>1.180664</td>\n",
       "      <td>0.006443</td>\n",
       "    </tr>\n",
       "    <tr>\n",
       "      <th>L0_S9_F184</th>\n",
       "      <td>L0_S9_F184</td>\n",
       "      <td>1.526978</td>\n",
       "      <td>0.008333</td>\n",
       "    </tr>\n",
       "    <tr>\n",
       "      <th>L3_S44_F4102</th>\n",
       "      <td>L3_S44_F4102</td>\n",
       "      <td>1.606696</td>\n",
       "      <td>0.008768</td>\n",
       "    </tr>\n",
       "    <tr>\n",
       "      <th>...</th>\n",
       "      <td>...</td>\n",
       "      <td>...</td>\n",
       "      <td>...</td>\n",
       "    </tr>\n",
       "    <tr>\n",
       "      <th>L1_S24_F1510</th>\n",
       "      <td>L1_S24_F1510</td>\n",
       "      <td>193.665192</td>\n",
       "      <td>1.056805</td>\n",
       "    </tr>\n",
       "    <tr>\n",
       "      <th>L1_S24_F1523</th>\n",
       "      <td>L1_S24_F1523</td>\n",
       "      <td>234.780960</td>\n",
       "      <td>1.281169</td>\n",
       "    </tr>\n",
       "    <tr>\n",
       "      <th>T1</th>\n",
       "      <td>T1</td>\n",
       "      <td>403.081879</td>\n",
       "      <td>2.199564</td>\n",
       "    </tr>\n",
       "    <tr>\n",
       "      <th>L3_S32_F3851</th>\n",
       "      <td>L3_S32_F3851</td>\n",
       "      <td>5125.208008</td>\n",
       "      <td>27.967581</td>\n",
       "    </tr>\n",
       "    <tr>\n",
       "      <th>L3_S32_F3854</th>\n",
       "      <td>L3_S32_F3854</td>\n",
       "      <td>9025.225586</td>\n",
       "      <td>49.249461</td>\n",
       "    </tr>\n",
       "  </tbody>\n",
       "</table>\n",
       "<p>84 rows × 3 columns</p>\n",
       "</div>"
      ],
      "text/plain": [
       "                   feature       scores      score\n",
       "L0_S2_F39        L0_S2_F39     0.862793   0.004708\n",
       "L0_S9_F179      L0_S9_F179     1.152344   0.006288\n",
       "L0_S9_F159      L0_S9_F159     1.180664   0.006443\n",
       "L0_S9_F184      L0_S9_F184     1.526978   0.008333\n",
       "L3_S44_F4102  L3_S44_F4102     1.606696   0.008768\n",
       "...                    ...          ...        ...\n",
       "L1_S24_F1510  L1_S24_F1510   193.665192   1.056805\n",
       "L1_S24_F1523  L1_S24_F1523   234.780960   1.281169\n",
       "T1                      T1   403.081879   2.199564\n",
       "L3_S32_F3851  L3_S32_F3851  5125.208008  27.967581\n",
       "L3_S32_F3854  L3_S32_F3854  9025.225586  49.249461\n",
       "\n",
       "[84 rows x 3 columns]"
      ]
     },
     "execution_count": 67,
     "metadata": {},
     "output_type": "execute_result"
    }
   ],
   "source": [
    "# model = xgb.Booster()\n",
    "# model.load_model(\"cate_xgb_model-1.json\")\n",
    "fscore = model.get_score(importance_type = 'total_gain')\n",
    "\n",
    "keys = list(fscore.keys())\n",
    "values = list(fscore.values())\n",
    "feat_imp = pd.DataFrame({'feature': keys, 'scores': values}, index=keys).sort_values(by = \"scores\", ascending=True)\n",
    "feat_imp['feature'] = pd.Categorical(\n",
    "feat_imp.feature, categories=pd.unique(feat_imp.feature))\n",
    "feat_imp['score'] = feat_imp['scores'].transform(lambda x: (x/float(x.sum())*100))\n",
    "feat_imp\n",
    "  "
   ]
  },
  {
   "cell_type": "code",
   "execution_count": 75,
   "metadata": {},
   "outputs": [
    {
     "name": "stderr",
     "output_type": "stream",
     "text": [
      "c:\\py_venv\\tutorial-venv\\lib\\site-packages\\IPython\\core\\interactiveshell.py:3444: DtypeWarning: Columns (807,809,811,842,984,1587,1985,1987) have mixed types.Specify dtype option on import or set low_memory=False.\n",
      "c:\\py_venv\\tutorial-venv\\lib\\site-packages\\IPython\\core\\interactiveshell.py:3444: DtypeWarning: Columns (807,809,811,842,984,1985,1987) have mixed types.Specify dtype option on import or set low_memory=False.\n"
     ]
    }
   ],
   "source": [
    "# select top k importance features\n",
    "k = 20\n",
    "features = list(feat_imp.iloc[-k:, 0])\n",
    "features.append('Id')\n",
    "cate_train = pd.read_csv(train_cate, usecols = features)\n",
    "cate_test = pd.read_csv(test_cate, usecols = features)"
   ]
  },
  {
   "cell_type": "code",
   "execution_count": 76,
   "metadata": {},
   "outputs": [],
   "source": [
    "col = list(set(cate_train.columns) - set(['Id']))\n",
    "for i in col:\n",
    "    le = LabelEncoder()\n",
    "    le.fit(cate_train[i].fillna('NA'))\n",
    "\n",
    "    cate_test[i] = cate_test[i].fillna('NA')\n",
    "    cate_test[i] = cate_test[i].map(lambda s: -1 if s not in le.classes_ else s)\n",
    "    le.classes_ = np.append(le.classes_, - 1)\n",
    "\n",
    "    cate_train[i] = le.transform(cate_train[i].fillna('NA'))\n",
    "    cate_test[i] = le.transform(cate_test[i])\n"
   ]
  },
  {
   "cell_type": "code",
   "execution_count": 15,
   "metadata": {},
   "outputs": [],
   "source": [
    "gc.collect()\n",
    "cate_train.to_csv(out + 'cate_train_xgb.csv')\n",
    "cate_test.to_csv(out + 'cate_test_xgb.csv')"
   ]
  },
  {
   "cell_type": "code",
   "execution_count": 69,
   "metadata": {},
   "outputs": [
    {
     "data": {
      "image/png": "[encoded data removed]",
      "text/plain": [
       "<Figure size 640x480 with 1 Axes>"
      ]
     },
     "metadata": {},
     "output_type": "display_data"
    },
    {
     "data": {
      "text/plain": [
       "<ggplot: (-9223371870594306288)>"
      ]
     },
     "execution_count": 69,
     "metadata": {},
     "output_type": "execute_result"
    }
   ],
   "source": [
    "g = (\n",
    "    ggplot(feat_imp.iloc[-30:, :])\n",
    "    + geom_bar(aes(x = 'feature', y = 'score'), stat = \"identity\", color='#7cc8e9', fill='#7cc8e9', width = 0.5)\n",
    "    + theme(axis_text_x = element_text(angle = 0, size = 13),\n",
    "            axis_text_y=element_text(size=7),\n",
    "            plot_title=element_text(size=18))\n",
    "    + scale_y_continuous(breaks = range(0, 100, 5))\n",
    "    + coord_flip()\n",
    "    + labs(x = 'features',y = 'importance percentages (%)')\n",
    "    + ggtitle('Features importance of categorical data')\n",
    ")\n",
    "# ggsave(file=\"Features importance of numeric data.svg\", plot = g, width = 10, height = 8, dpi = 500, format = 'svg')\n",
    "g"
   ]
  }
 ],
 "metadata": {
  "interpreter": {
   "hash": "7ab622567d5dd62d8f3cbe4f9041d16392fede1d1b7e8653be16112644bf1804"
  },
  "kernelspec": {
   "display_name": "Python 3.7.4 64-bit ('tutorial-venv': venv)",
   "language": "python",
   "name": "python3"
  },
  "language_info": {
   "codemirror_mode": {
    "name": "ipython",
    "version": 3
   },
   "file_extension": ".py",
   "mimetype": "text/x-python",
   "name": "python",
   "nbconvert_exporter": "python",
   "pygments_lexer": "ipython3",
   "version": "3.7.4"
  },
  "orig_nbformat": 4
 },
 "nbformat": 4,
 "nbformat_minor": 2
}
